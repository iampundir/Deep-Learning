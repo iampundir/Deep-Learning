{
  "nbformat": 4,
  "nbformat_minor": 0,
  "metadata": {
    "kernelspec": {
      "display_name": "Python 3",
      "language": "python",
      "name": "python3"
    },
    "language_info": {
      "codemirror_mode": {
        "name": "ipython",
        "version": 3
      },
      "file_extension": ".py",
      "mimetype": "text/x-python",
      "name": "python",
      "nbconvert_exporter": "python",
      "pygments_lexer": "ipython3",
      "version": "3.7.6"
    },
    "colab": {
      "name": "SP_Simple MLP with Keras.ipynb",
      "provenance": [],
      "include_colab_link": true
    },
    "accelerator": "GPU"
  },
  "cells": [
    {
      "cell_type": "markdown",
      "metadata": {
        "id": "view-in-github",
        "colab_type": "text"
      },
      "source": [
        "<a href=\"https://colab.research.google.com/github/iampundir/Deep-Learning/blob/main/SP_Simple_MLP_with_Keras.ipynb\" target=\"_parent\"><img src=\"https://colab.research.google.com/assets/colab-badge.svg\" alt=\"Open In Colab\"/></a>"
      ]
    },
    {
      "cell_type": "code",
      "metadata": {
        "id": "rmIuGFuO5u0E"
      },
      "source": [
        "from tensorflow.keras.layers import Dense, Input\n",
        "from tensorflow.keras.models import Model\n",
        "import tensorflow.keras.backend as K\n",
        "import matplotlib.pyplot as plt\n",
        "import numpy as np\n"
      ],
      "execution_count": 6,
      "outputs": []
    },
    {
      "cell_type": "code",
      "metadata": {
        "id": "ALauYb_B5u0W"
      },
      "source": [
        "from sklearn.datasets import make_regression, make_circles, make_moons"
      ],
      "execution_count": 7,
      "outputs": []
    },
    {
      "cell_type": "code",
      "metadata": {
        "id": "GF6vCEXt5u0g"
      },
      "source": [
        "data_moons, class_moons = make_moons(n_samples=10000, noise=0.05)"
      ],
      "execution_count": 8,
      "outputs": []
    },
    {
      "cell_type": "code",
      "metadata": {
        "id": "AEqggslI5u0r",
        "outputId": "f9ad3d63-df1a-4934-c766-e03f9791264e",
        "colab": {
          "base_uri": "https://localhost:8080/",
          "height": 34
        }
      },
      "source": [
        "data_moons.shape"
      ],
      "execution_count": 9,
      "outputs": [
        {
          "output_type": "execute_result",
          "data": {
            "text/plain": [
              "(10000, 2)"
            ]
          },
          "metadata": {
            "tags": []
          },
          "execution_count": 9
        }
      ]
    },
    {
      "cell_type": "code",
      "metadata": {
        "id": "bolVoj6Y5u03",
        "outputId": "1f71c632-aefb-4762-a52d-019b33f0dfb3",
        "colab": {
          "base_uri": "https://localhost:8080/",
          "height": 282
        }
      },
      "source": [
        "plt.scatter(data_moons[:,0],data_moons[:,1], c=class_moons)"
      ],
      "execution_count": 10,
      "outputs": [
        {
          "output_type": "execute_result",
          "data": {
            "text/plain": [
              "<matplotlib.collections.PathCollection at 0x7f40edf95710>"
            ]
          },
          "metadata": {
            "tags": []
          },
          "execution_count": 10
        },
        {
          "output_type": "display_data",
          "data": {
            "image/png": "[encoded data removed]",
            "text/plain": [
              "<Figure size 432x288 with 1 Axes>"
            ]
          },
          "metadata": {
            "tags": [],
            "needs_background": "light"
          }
        }
      ]
    },
    {
      "cell_type": "code",
      "metadata": {
        "id": "NDZGvnL95u0-"
      },
      "source": [
        "data_regression, target_regression = make_regression(n_samples=10000, n_features=10, n_informative=8)"
      ],
      "execution_count": 11,
      "outputs": []
    },
    {
      "cell_type": "code",
      "metadata": {
        "id": "YHUnl91n5u1E",
        "outputId": "f673056f-b6ad-41f3-ff84-12e6b7f03087",
        "colab": {
          "base_uri": "https://localhost:8080/",
          "height": 221
        }
      },
      "source": [
        "K.clear_session()\n",
        "inp_reg = Input(shape=(10,),dtype=np.float32)\n",
        "out_reg = Dense(units=1, activation='linear')(inp_reg)\n",
        "reg_model = Model(inp_reg, out_reg)\n",
        "reg_model.summary()"
      ],
      "execution_count": 12,
      "outputs": [
        {
          "output_type": "stream",
          "text": [
            "Model: \"functional_1\"\n",
            "_________________________________________________________________\n",
            "Layer (type)                 Output Shape              Param #   \n",
            "=================================================================\n",
            "input_1 (InputLayer)         [(None, 10)]              0         \n",
            "_________________________________________________________________\n",
            "dense (Dense)                (None, 1)                 11        \n",
            "=================================================================\n",
            "Total params: 11\n",
            "Trainable params: 11\n",
            "Non-trainable params: 0\n",
            "_________________________________________________________________\n"
          ],
          "name": "stdout"
        }
      ]
    },
    {
      "cell_type": "code",
      "metadata": {
        "id": "9Rsr9bTF5u1L",
        "outputId": "afcb5be5-2888-4905-a351-32990cd613b5",
        "colab": {
          "base_uri": "https://localhost:8080/",
          "height": 1000
        }
      },
      "source": [
        "reg_model.compile(loss='mse', metrics=['mse'])\n",
        "hist_reg = reg_model.fit(x=data_regression,y=target_regression, epochs=200, batch_size=32, validation_split=0.3)"
      ],
      "execution_count": 13,
      "outputs": [
        {
          "output_type": "stream",
          "text": [
            "Epoch 1/200\n",
            "219/219 [==============================] - 1s 3ms/step - loss: 17552.4473 - mse: 17552.4473 - val_loss: 17504.6445 - val_mse: 17504.6445\n",
            "Epoch 2/200\n",
            "219/219 [==============================] - 1s 2ms/step - loss: 17426.2266 - mse: 17426.2266 - val_loss: 17379.4531 - val_mse: 17379.4531\n",
            "Epoch 3/200\n",
            "219/219 [==============================] - 1s 2ms/step - loss: 17302.6016 - mse: 17302.6016 - val_loss: 17255.1602 - val_mse: 17255.1602\n",
            "Epoch 4/200\n",
            "219/219 [==============================] - 1s 2ms/step - loss: 17176.4688 - mse: 17176.4688 - val_loss: 17130.3418 - val_mse: 17130.3418\n",
            "Epoch 5/200\n",
            "219/219 [==============================] - 0s 2ms/step - loss: 17052.8340 - mse: 17052.8340 - val_loss: 17006.9551 - val_mse: 17006.9551\n",
            "Epoch 6/200\n",
            "219/219 [==============================] - 1s 2ms/step - loss: 16930.3535 - mse: 16930.3535 - val_loss: 16883.1738 - val_mse: 16883.1738\n",
            "Epoch 7/200\n",
            "219/219 [==============================] - 0s 2ms/step - loss: 16806.4902 - mse: 16806.4902 - val_loss: 16760.9062 - val_mse: 16760.9062\n",
            "Epoch 8/200\n",
            "219/219 [==============================] - 1s 2ms/step - loss: 16683.5020 - mse: 16683.5020 - val_loss: 16638.7793 - val_mse: 16638.7793\n",
            "Epoch 9/200\n",
            "219/219 [==============================] - 1s 2ms/step - loss: 16563.9082 - mse: 16563.9082 - val_loss: 16517.8301 - val_mse: 16517.8301\n",
            "Epoch 10/200\n",
            "219/219 [==============================] - 0s 2ms/step - loss: 16441.5742 - mse: 16441.5742 - val_loss: 16395.8555 - val_mse: 16395.8555\n",
            "Epoch 11/200\n",
            "219/219 [==============================] - 1s 2ms/step - loss: 16320.0244 - mse: 16320.0244 - val_loss: 16275.1924 - val_mse: 16275.1924\n",
            "Epoch 12/200\n",
            "219/219 [==============================] - 0s 2ms/step - loss: 16200.0996 - mse: 16200.0996 - val_loss: 16155.2588 - val_mse: 16155.2588\n",
            "Epoch 13/200\n",
            "219/219 [==============================] - 1s 2ms/step - loss: 16080.2334 - mse: 16080.2334 - val_loss: 16036.2666 - val_mse: 16036.2666\n",
            "Epoch 14/200\n",
            "219/219 [==============================] - 0s 2ms/step - loss: 15962.0625 - mse: 15962.0625 - val_loss: 15916.8105 - val_mse: 15916.8105\n",
            "Epoch 15/200\n",
            "219/219 [==============================] - 0s 2ms/step - loss: 15842.2803 - mse: 15842.2803 - val_loss: 15798.0615 - val_mse: 15798.0615\n",
            "Epoch 16/200\n",
            "219/219 [==============================] - 0s 2ms/step - loss: 15722.2959 - mse: 15722.2959 - val_loss: 15679.2578 - val_mse: 15679.2578\n",
            "Epoch 17/200\n",
            "219/219 [==============================] - 1s 2ms/step - loss: 15605.9170 - mse: 15605.9170 - val_loss: 15562.4463 - val_mse: 15562.4463\n",
            "Epoch 18/200\n",
            "219/219 [==============================] - 1s 2ms/step - loss: 15488.0088 - mse: 15488.0088 - val_loss: 15444.8770 - val_mse: 15444.8770\n",
            "Epoch 19/200\n",
            "219/219 [==============================] - 1s 3ms/step - loss: 15371.6084 - mse: 15371.6084 - val_loss: 15328.7676 - val_mse: 15328.7676\n",
            "Epoch 20/200\n",
            "219/219 [==============================] - 1s 3ms/step - loss: 15255.5361 - mse: 15255.5361 - val_loss: 15212.9160 - val_mse: 15212.9160\n",
            "Epoch 21/200\n",
            "219/219 [==============================] - 1s 3ms/step - loss: 15141.1270 - mse: 15141.1270 - val_loss: 15098.6543 - val_mse: 15098.6543\n",
            "Epoch 22/200\n",
            "219/219 [==============================] - 1s 2ms/step - loss: 15025.8320 - mse: 15025.8320 - val_loss: 14983.2373 - val_mse: 14983.2373\n",
            "Epoch 23/200\n",
            "219/219 [==============================] - 1s 3ms/step - loss: 14910.8271 - mse: 14910.8271 - val_loss: 14868.3613 - val_mse: 14868.3613\n",
            "Epoch 24/200\n",
            "219/219 [==============================] - 1s 2ms/step - loss: 14796.6162 - mse: 14796.6162 - val_loss: 14754.2510 - val_mse: 14754.2510\n",
            "Epoch 25/200\n",
            "219/219 [==============================] - 1s 3ms/step - loss: 14683.1533 - mse: 14683.1533 - val_loss: 14641.8984 - val_mse: 14641.8984\n",
            "Epoch 26/200\n",
            "219/219 [==============================] - 1s 3ms/step - loss: 14571.8877 - mse: 14571.8877 - val_loss: 14529.2002 - val_mse: 14529.2002\n",
            "Epoch 27/200\n",
            "219/219 [==============================] - 1s 3ms/step - loss: 14459.9062 - mse: 14459.9062 - val_loss: 14417.2910 - val_mse: 14417.2910\n",
            "Epoch 28/200\n",
            "219/219 [==============================] - 1s 2ms/step - loss: 14346.2568 - mse: 14346.2568 - val_loss: 14304.3984 - val_mse: 14304.3984\n",
            "Epoch 29/200\n",
            "219/219 [==============================] - 1s 2ms/step - loss: 14235.0146 - mse: 14235.0146 - val_loss: 14192.4082 - val_mse: 14192.4082\n",
            "Epoch 30/200\n",
            "219/219 [==============================] - 1s 2ms/step - loss: 14123.2744 - mse: 14123.2744 - val_loss: 14081.8691 - val_mse: 14081.8691\n",
            "Epoch 31/200\n",
            "219/219 [==============================] - 1s 2ms/step - loss: 14014.2568 - mse: 14014.2568 - val_loss: 13972.1709 - val_mse: 13972.1709\n",
            "Epoch 32/200\n",
            "219/219 [==============================] - 1s 2ms/step - loss: 13902.4688 - mse: 13902.4688 - val_loss: 13861.4814 - val_mse: 13861.4814\n",
            "Epoch 33/200\n",
            "219/219 [==============================] - 1s 3ms/step - loss: 13793.1953 - mse: 13793.1953 - val_loss: 13752.3730 - val_mse: 13752.3730\n",
            "Epoch 34/200\n",
            "219/219 [==============================] - 1s 2ms/step - loss: 13684.7627 - mse: 13684.7627 - val_loss: 13643.3057 - val_mse: 13643.3057\n",
            "Epoch 35/200\n",
            "219/219 [==============================] - 1s 3ms/step - loss: 13574.9170 - mse: 13574.9170 - val_loss: 13534.5908 - val_mse: 13534.5908\n",
            "Epoch 36/200\n",
            "219/219 [==============================] - 1s 2ms/step - loss: 13467.4375 - mse: 13467.4375 - val_loss: 13426.2529 - val_mse: 13426.2529\n",
            "Epoch 37/200\n",
            "219/219 [==============================] - 1s 2ms/step - loss: 13359.2490 - mse: 13359.2490 - val_loss: 13318.7852 - val_mse: 13318.7852\n",
            "Epoch 38/200\n",
            "219/219 [==============================] - 1s 2ms/step - loss: 13252.0947 - mse: 13252.0947 - val_loss: 13211.0410 - val_mse: 13211.0410\n",
            "Epoch 39/200\n",
            "219/219 [==============================] - 1s 2ms/step - loss: 13145.5020 - mse: 13145.5020 - val_loss: 13104.8018 - val_mse: 13104.8018\n",
            "Epoch 40/200\n",
            "219/219 [==============================] - 1s 2ms/step - loss: 13039.0518 - mse: 13039.0518 - val_loss: 12998.6396 - val_mse: 12998.6396\n",
            "Epoch 41/200\n",
            "219/219 [==============================] - 1s 2ms/step - loss: 12932.4971 - mse: 12932.4971 - val_loss: 12892.2256 - val_mse: 12892.2256\n",
            "Epoch 42/200\n",
            "219/219 [==============================] - 1s 2ms/step - loss: 12827.2744 - mse: 12827.2744 - val_loss: 12787.1387 - val_mse: 12787.1387\n",
            "Epoch 43/200\n",
            "219/219 [==============================] - 1s 3ms/step - loss: 12722.5830 - mse: 12722.5830 - val_loss: 12682.4971 - val_mse: 12682.4971\n",
            "Epoch 44/200\n",
            "219/219 [==============================] - 1s 3ms/step - loss: 12617.6631 - mse: 12617.6631 - val_loss: 12577.9023 - val_mse: 12577.9023\n",
            "Epoch 45/200\n",
            "219/219 [==============================] - 0s 2ms/step - loss: 12514.1270 - mse: 12514.1270 - val_loss: 12474.7275 - val_mse: 12474.7275\n",
            "Epoch 46/200\n",
            "219/219 [==============================] - 1s 2ms/step - loss: 12411.5723 - mse: 12411.5723 - val_loss: 12372.0010 - val_mse: 12372.0010\n",
            "Epoch 47/200\n",
            "219/219 [==============================] - 1s 2ms/step - loss: 12308.4277 - mse: 12308.4277 - val_loss: 12269.3418 - val_mse: 12269.3418\n",
            "Epoch 48/200\n",
            "219/219 [==============================] - 1s 2ms/step - loss: 12206.7627 - mse: 12206.7627 - val_loss: 12166.7891 - val_mse: 12166.7891\n",
            "Epoch 49/200\n",
            "219/219 [==============================] - 1s 2ms/step - loss: 12105.0342 - mse: 12105.0342 - val_loss: 12065.3711 - val_mse: 12065.3711\n",
            "Epoch 50/200\n",
            "219/219 [==============================] - 1s 2ms/step - loss: 12002.2930 - mse: 12002.2930 - val_loss: 11963.5508 - val_mse: 11963.5508\n",
            "Epoch 51/200\n",
            "219/219 [==============================] - 1s 3ms/step - loss: 11901.8545 - mse: 11901.8545 - val_loss: 11862.8711 - val_mse: 11862.8711\n",
            "Epoch 52/200\n",
            "219/219 [==============================] - 1s 3ms/step - loss: 11802.3203 - mse: 11802.3203 - val_loss: 11762.5391 - val_mse: 11762.5391\n",
            "Epoch 53/200\n",
            "219/219 [==============================] - 1s 2ms/step - loss: 11702.0811 - mse: 11702.0811 - val_loss: 11662.6064 - val_mse: 11662.6064\n",
            "Epoch 54/200\n",
            "219/219 [==============================] - 1s 2ms/step - loss: 11602.7295 - mse: 11602.7295 - val_loss: 11563.3184 - val_mse: 11563.3184\n",
            "Epoch 55/200\n",
            "219/219 [==============================] - 1s 2ms/step - loss: 11502.9199 - mse: 11502.9199 - val_loss: 11463.9639 - val_mse: 11463.9639\n",
            "Epoch 56/200\n",
            "219/219 [==============================] - 1s 3ms/step - loss: 11404.4766 - mse: 11404.4766 - val_loss: 11365.8418 - val_mse: 11365.8418\n",
            "Epoch 57/200\n",
            "219/219 [==============================] - 1s 3ms/step - loss: 11307.0898 - mse: 11307.0898 - val_loss: 11267.4707 - val_mse: 11267.4707\n",
            "Epoch 58/200\n",
            "219/219 [==============================] - 1s 2ms/step - loss: 11208.5781 - mse: 11208.5781 - val_loss: 11170.3164 - val_mse: 11170.3164\n",
            "Epoch 59/200\n",
            "219/219 [==============================] - 1s 2ms/step - loss: 11111.4629 - mse: 11111.4629 - val_loss: 11073.7617 - val_mse: 11073.7617\n",
            "Epoch 60/200\n",
            "219/219 [==============================] - 1s 2ms/step - loss: 11015.1182 - mse: 11015.1182 - val_loss: 10977.4668 - val_mse: 10977.4668\n",
            "Epoch 61/200\n",
            "219/219 [==============================] - 1s 2ms/step - loss: 10920.0488 - mse: 10920.0488 - val_loss: 10882.0605 - val_mse: 10882.0605\n",
            "Epoch 62/200\n",
            "219/219 [==============================] - 1s 2ms/step - loss: 10825.0996 - mse: 10825.0996 - val_loss: 10786.4775 - val_mse: 10786.4775\n",
            "Epoch 63/200\n",
            "219/219 [==============================] - 1s 2ms/step - loss: 10729.0293 - mse: 10729.0293 - val_loss: 10690.4609 - val_mse: 10690.4609\n",
            "Epoch 64/200\n",
            "219/219 [==============================] - 0s 2ms/step - loss: 10635.0352 - mse: 10635.0352 - val_loss: 10596.3438 - val_mse: 10596.3438\n",
            "Epoch 65/200\n",
            "219/219 [==============================] - 1s 3ms/step - loss: 10540.0869 - mse: 10540.0869 - val_loss: 10502.1289 - val_mse: 10502.1289\n",
            "Epoch 66/200\n",
            "219/219 [==============================] - 0s 2ms/step - loss: 10447.2529 - mse: 10447.2529 - val_loss: 10408.8311 - val_mse: 10408.8311\n",
            "Epoch 67/200\n",
            "219/219 [==============================] - 1s 2ms/step - loss: 10353.6650 - mse: 10353.6650 - val_loss: 10315.1240 - val_mse: 10315.1240\n",
            "Epoch 68/200\n",
            "219/219 [==============================] - 1s 2ms/step - loss: 10260.0088 - mse: 10260.0088 - val_loss: 10222.0049 - val_mse: 10222.0049\n",
            "Epoch 69/200\n",
            "219/219 [==============================] - 1s 2ms/step - loss: 10167.5596 - mse: 10167.5596 - val_loss: 10129.8750 - val_mse: 10129.8750\n",
            "Epoch 70/200\n",
            "219/219 [==============================] - 1s 2ms/step - loss: 10076.3418 - mse: 10076.3418 - val_loss: 10038.9863 - val_mse: 10038.9863\n",
            "Epoch 71/200\n",
            "219/219 [==============================] - 1s 2ms/step - loss: 9985.0068 - mse: 9985.0068 - val_loss: 9947.8330 - val_mse: 9947.8330\n",
            "Epoch 72/200\n",
            "219/219 [==============================] - 1s 2ms/step - loss: 9894.8926 - mse: 9894.8926 - val_loss: 9856.8711 - val_mse: 9856.8711\n",
            "Epoch 73/200\n",
            "219/219 [==============================] - 1s 2ms/step - loss: 9804.3350 - mse: 9804.3350 - val_loss: 9767.1328 - val_mse: 9767.1328\n",
            "Epoch 74/200\n",
            "219/219 [==============================] - 1s 3ms/step - loss: 9714.3018 - mse: 9714.3018 - val_loss: 9677.0518 - val_mse: 9677.0518\n",
            "Epoch 75/200\n",
            "219/219 [==============================] - 1s 2ms/step - loss: 9625.4482 - mse: 9625.4482 - val_loss: 9587.4043 - val_mse: 9587.4043\n",
            "Epoch 76/200\n",
            "219/219 [==============================] - 1s 2ms/step - loss: 9536.6660 - mse: 9536.6660 - val_loss: 9499.9941 - val_mse: 9499.9941\n",
            "Epoch 77/200\n",
            "219/219 [==============================] - 1s 2ms/step - loss: 9448.5713 - mse: 9448.5713 - val_loss: 9411.3457 - val_mse: 9411.3457\n",
            "Epoch 78/200\n",
            "219/219 [==============================] - 1s 2ms/step - loss: 9361.4893 - mse: 9361.4893 - val_loss: 9324.6143 - val_mse: 9324.6143\n",
            "Epoch 79/200\n",
            "219/219 [==============================] - 1s 2ms/step - loss: 9273.7598 - mse: 9273.7598 - val_loss: 9236.8643 - val_mse: 9236.8643\n",
            "Epoch 80/200\n",
            "219/219 [==============================] - 1s 2ms/step - loss: 9186.9932 - mse: 9186.9932 - val_loss: 9150.0693 - val_mse: 9150.0693\n",
            "Epoch 81/200\n",
            "219/219 [==============================] - 1s 2ms/step - loss: 9100.8252 - mse: 9100.8252 - val_loss: 9064.3350 - val_mse: 9064.3350\n",
            "Epoch 82/200\n",
            "219/219 [==============================] - 1s 3ms/step - loss: 9014.4863 - mse: 9014.4863 - val_loss: 8978.1680 - val_mse: 8978.1680\n",
            "Epoch 83/200\n",
            "219/219 [==============================] - 1s 3ms/step - loss: 8929.4277 - mse: 8929.4277 - val_loss: 8892.6436 - val_mse: 8892.6436\n",
            "Epoch 84/200\n",
            "219/219 [==============================] - 1s 2ms/step - loss: 8844.1357 - mse: 8844.1357 - val_loss: 8807.4736 - val_mse: 8807.4736\n",
            "Epoch 85/200\n",
            "219/219 [==============================] - 1s 2ms/step - loss: 8760.1162 - mse: 8760.1162 - val_loss: 8722.9170 - val_mse: 8722.9170\n",
            "Epoch 86/200\n",
            "219/219 [==============================] - 1s 2ms/step - loss: 8674.7676 - mse: 8674.7676 - val_loss: 8638.6816 - val_mse: 8638.6816\n",
            "Epoch 87/200\n",
            "219/219 [==============================] - 1s 2ms/step - loss: 8591.7207 - mse: 8591.7207 - val_loss: 8555.4756 - val_mse: 8555.4756\n",
            "Epoch 88/200\n",
            "219/219 [==============================] - 1s 2ms/step - loss: 8509.0137 - mse: 8509.0137 - val_loss: 8472.5244 - val_mse: 8472.5244\n",
            "Epoch 89/200\n",
            "219/219 [==============================] - 1s 3ms/step - loss: 8426.2490 - mse: 8426.2490 - val_loss: 8390.0439 - val_mse: 8390.0439\n",
            "Epoch 90/200\n",
            "219/219 [==============================] - 1s 2ms/step - loss: 8344.1436 - mse: 8344.1436 - val_loss: 8307.9209 - val_mse: 8307.9209\n",
            "Epoch 91/200\n",
            "219/219 [==============================] - 1s 3ms/step - loss: 8262.7617 - mse: 8262.7617 - val_loss: 8226.3965 - val_mse: 8226.3965\n",
            "Epoch 92/200\n",
            "219/219 [==============================] - 1s 3ms/step - loss: 8181.4634 - mse: 8181.4634 - val_loss: 8145.4761 - val_mse: 8145.4761\n",
            "Epoch 93/200\n",
            "219/219 [==============================] - 1s 3ms/step - loss: 8100.7026 - mse: 8100.7026 - val_loss: 8065.0728 - val_mse: 8065.0728\n",
            "Epoch 94/200\n",
            "219/219 [==============================] - 1s 2ms/step - loss: 8019.9712 - mse: 8019.9712 - val_loss: 7984.2012 - val_mse: 7984.2012\n",
            "Epoch 95/200\n",
            "219/219 [==============================] - 1s 2ms/step - loss: 7939.9316 - mse: 7939.9316 - val_loss: 7904.8945 - val_mse: 7904.8945\n",
            "Epoch 96/200\n",
            "219/219 [==============================] - 0s 2ms/step - loss: 7861.0850 - mse: 7861.0850 - val_loss: 7825.3193 - val_mse: 7825.3193\n",
            "Epoch 97/200\n",
            "219/219 [==============================] - 1s 2ms/step - loss: 7782.0596 - mse: 7782.0596 - val_loss: 7746.6738 - val_mse: 7746.6738\n",
            "Epoch 98/200\n",
            "219/219 [==============================] - 1s 3ms/step - loss: 7703.6875 - mse: 7703.6875 - val_loss: 7668.1147 - val_mse: 7668.1147\n",
            "Epoch 99/200\n",
            "219/219 [==============================] - 1s 2ms/step - loss: 7625.5464 - mse: 7625.5464 - val_loss: 7590.4180 - val_mse: 7590.4180\n",
            "Epoch 100/200\n",
            "219/219 [==============================] - 1s 2ms/step - loss: 7547.7627 - mse: 7547.7627 - val_loss: 7512.3062 - val_mse: 7512.3062\n",
            "Epoch 101/200\n",
            "219/219 [==============================] - 1s 2ms/step - loss: 7470.7324 - mse: 7470.7324 - val_loss: 7435.3555 - val_mse: 7435.3555\n",
            "Epoch 102/200\n",
            "219/219 [==============================] - 1s 2ms/step - loss: 7395.2261 - mse: 7395.2261 - val_loss: 7359.6426 - val_mse: 7359.6426\n",
            "Epoch 103/200\n",
            "219/219 [==============================] - 1s 3ms/step - loss: 7318.5361 - mse: 7318.5361 - val_loss: 7283.1064 - val_mse: 7283.1064\n",
            "Epoch 104/200\n",
            "219/219 [==============================] - 1s 2ms/step - loss: 7242.7910 - mse: 7242.7910 - val_loss: 7207.8540 - val_mse: 7207.8540\n",
            "Epoch 105/200\n",
            "219/219 [==============================] - 1s 2ms/step - loss: 7167.1450 - mse: 7167.1450 - val_loss: 7132.3706 - val_mse: 7132.3706\n",
            "Epoch 106/200\n",
            "219/219 [==============================] - 1s 3ms/step - loss: 7092.9082 - mse: 7092.9082 - val_loss: 7057.6694 - val_mse: 7057.6694\n",
            "Epoch 107/200\n",
            "219/219 [==============================] - 0s 2ms/step - loss: 7018.5337 - mse: 7018.5337 - val_loss: 6983.7173 - val_mse: 6983.7173\n",
            "Epoch 108/200\n",
            "219/219 [==============================] - 1s 3ms/step - loss: 6944.8691 - mse: 6944.8691 - val_loss: 6909.7739 - val_mse: 6909.7739\n",
            "Epoch 109/200\n",
            "219/219 [==============================] - 1s 2ms/step - loss: 6871.5630 - mse: 6871.5630 - val_loss: 6836.5400 - val_mse: 6836.5400\n",
            "Epoch 110/200\n",
            "219/219 [==============================] - 1s 2ms/step - loss: 6797.6167 - mse: 6797.6167 - val_loss: 6763.2886 - val_mse: 6763.2886\n",
            "Epoch 111/200\n",
            "219/219 [==============================] - 1s 2ms/step - loss: 6725.2119 - mse: 6725.2119 - val_loss: 6690.9375 - val_mse: 6690.9375\n",
            "Epoch 112/200\n",
            "219/219 [==============================] - 1s 2ms/step - loss: 6652.6050 - mse: 6652.6050 - val_loss: 6618.1318 - val_mse: 6618.1318\n",
            "Epoch 113/200\n",
            "219/219 [==============================] - 1s 2ms/step - loss: 6580.9194 - mse: 6580.9194 - val_loss: 6547.0508 - val_mse: 6547.0508\n",
            "Epoch 114/200\n",
            "219/219 [==============================] - 1s 2ms/step - loss: 6510.2974 - mse: 6510.2974 - val_loss: 6475.9668 - val_mse: 6475.9668\n",
            "Epoch 115/200\n",
            "219/219 [==============================] - 1s 2ms/step - loss: 6439.8369 - mse: 6439.8369 - val_loss: 6405.1641 - val_mse: 6405.1641\n",
            "Epoch 116/200\n",
            "219/219 [==============================] - 1s 2ms/step - loss: 6369.0698 - mse: 6369.0698 - val_loss: 6335.5259 - val_mse: 6335.5259\n",
            "Epoch 117/200\n",
            "219/219 [==============================] - 1s 2ms/step - loss: 6299.4028 - mse: 6299.4028 - val_loss: 6265.8667 - val_mse: 6265.8667\n",
            "Epoch 118/200\n",
            "219/219 [==============================] - 1s 2ms/step - loss: 6229.8853 - mse: 6229.8853 - val_loss: 6195.7080 - val_mse: 6195.7080\n",
            "Epoch 119/200\n",
            "219/219 [==============================] - 1s 2ms/step - loss: 6160.6309 - mse: 6160.6309 - val_loss: 6127.3745 - val_mse: 6127.3745\n",
            "Epoch 120/200\n",
            "219/219 [==============================] - 1s 2ms/step - loss: 6092.5469 - mse: 6092.5469 - val_loss: 6059.0312 - val_mse: 6059.0312\n",
            "Epoch 121/200\n",
            "219/219 [==============================] - 1s 2ms/step - loss: 6023.8125 - mse: 6023.8125 - val_loss: 5990.7827 - val_mse: 5990.7827\n",
            "Epoch 122/200\n",
            "219/219 [==============================] - 1s 2ms/step - loss: 5957.0537 - mse: 5957.0537 - val_loss: 5923.3579 - val_mse: 5923.3579\n",
            "Epoch 123/200\n",
            "219/219 [==============================] - 1s 2ms/step - loss: 5889.8110 - mse: 5889.8110 - val_loss: 5856.5093 - val_mse: 5856.5093\n",
            "Epoch 124/200\n",
            "219/219 [==============================] - 1s 2ms/step - loss: 5823.5430 - mse: 5823.5430 - val_loss: 5790.1729 - val_mse: 5790.1729\n",
            "Epoch 125/200\n",
            "219/219 [==============================] - 1s 2ms/step - loss: 5756.9238 - mse: 5756.9238 - val_loss: 5724.2134 - val_mse: 5724.2134\n",
            "Epoch 126/200\n",
            "219/219 [==============================] - 1s 2ms/step - loss: 5691.0771 - mse: 5691.0771 - val_loss: 5658.0615 - val_mse: 5658.0615\n",
            "Epoch 127/200\n",
            "219/219 [==============================] - 1s 2ms/step - loss: 5626.0498 - mse: 5626.0498 - val_loss: 5592.8862 - val_mse: 5592.8862\n",
            "Epoch 128/200\n",
            "219/219 [==============================] - 1s 3ms/step - loss: 5561.2729 - mse: 5561.2729 - val_loss: 5528.0181 - val_mse: 5528.0181\n",
            "Epoch 129/200\n",
            "219/219 [==============================] - 1s 2ms/step - loss: 5496.5146 - mse: 5496.5146 - val_loss: 5463.7598 - val_mse: 5463.7598\n",
            "Epoch 130/200\n",
            "219/219 [==============================] - 1s 2ms/step - loss: 5432.3784 - mse: 5432.3784 - val_loss: 5400.1567 - val_mse: 5400.1567\n",
            "Epoch 131/200\n",
            "219/219 [==============================] - 1s 3ms/step - loss: 5369.5142 - mse: 5369.5142 - val_loss: 5337.0186 - val_mse: 5337.0186\n",
            "Epoch 132/200\n",
            "219/219 [==============================] - 1s 3ms/step - loss: 5305.8535 - mse: 5305.8535 - val_loss: 5274.0059 - val_mse: 5274.0059\n",
            "Epoch 133/200\n",
            "219/219 [==============================] - 1s 3ms/step - loss: 5243.0356 - mse: 5243.0356 - val_loss: 5210.8188 - val_mse: 5210.8188\n",
            "Epoch 134/200\n",
            "219/219 [==============================] - 1s 2ms/step - loss: 5180.4321 - mse: 5180.4321 - val_loss: 5148.3662 - val_mse: 5148.3662\n",
            "Epoch 135/200\n",
            "219/219 [==============================] - 1s 3ms/step - loss: 5118.8345 - mse: 5118.8345 - val_loss: 5086.9092 - val_mse: 5086.9092\n",
            "Epoch 136/200\n",
            "219/219 [==============================] - 1s 2ms/step - loss: 5056.6636 - mse: 5056.6636 - val_loss: 5024.8652 - val_mse: 5024.8652\n",
            "Epoch 137/200\n",
            "219/219 [==============================] - 1s 2ms/step - loss: 4995.3452 - mse: 4995.3452 - val_loss: 4963.9458 - val_mse: 4963.9458\n",
            "Epoch 138/200\n",
            "219/219 [==============================] - 1s 3ms/step - loss: 4934.9048 - mse: 4934.9048 - val_loss: 4903.1045 - val_mse: 4903.1045\n",
            "Epoch 139/200\n",
            "219/219 [==============================] - 1s 2ms/step - loss: 4874.9863 - mse: 4874.9863 - val_loss: 4843.2832 - val_mse: 4843.2832\n",
            "Epoch 140/200\n",
            "219/219 [==============================] - 1s 2ms/step - loss: 4815.0728 - mse: 4815.0728 - val_loss: 4784.2012 - val_mse: 4784.2012\n",
            "Epoch 141/200\n",
            "219/219 [==============================] - 1s 2ms/step - loss: 4756.2759 - mse: 4756.2759 - val_loss: 4724.9072 - val_mse: 4724.9072\n",
            "Epoch 142/200\n",
            "219/219 [==============================] - 1s 2ms/step - loss: 4697.4062 - mse: 4697.4062 - val_loss: 4666.1382 - val_mse: 4666.1382\n",
            "Epoch 143/200\n",
            "219/219 [==============================] - 1s 2ms/step - loss: 4638.9551 - mse: 4638.9551 - val_loss: 4608.0332 - val_mse: 4608.0332\n",
            "Epoch 144/200\n",
            "219/219 [==============================] - 1s 3ms/step - loss: 4580.7422 - mse: 4580.7422 - val_loss: 4550.0659 - val_mse: 4550.0659\n",
            "Epoch 145/200\n",
            "219/219 [==============================] - 1s 2ms/step - loss: 4523.1567 - mse: 4523.1567 - val_loss: 4492.8340 - val_mse: 4492.8340\n",
            "Epoch 146/200\n",
            "219/219 [==============================] - 1s 2ms/step - loss: 4466.2456 - mse: 4466.2456 - val_loss: 4435.8838 - val_mse: 4435.8838\n",
            "Epoch 147/200\n",
            "219/219 [==============================] - 1s 2ms/step - loss: 4409.9102 - mse: 4409.9102 - val_loss: 4379.4990 - val_mse: 4379.4990\n",
            "Epoch 148/200\n",
            "219/219 [==============================] - 1s 3ms/step - loss: 4353.0464 - mse: 4353.0464 - val_loss: 4322.9507 - val_mse: 4322.9507\n",
            "Epoch 149/200\n",
            "219/219 [==============================] - 1s 2ms/step - loss: 4296.7710 - mse: 4296.7710 - val_loss: 4266.7451 - val_mse: 4266.7451\n",
            "Epoch 150/200\n",
            "219/219 [==============================] - 1s 3ms/step - loss: 4241.4351 - mse: 4241.4351 - val_loss: 4211.3242 - val_mse: 4211.3242\n",
            "Epoch 151/200\n",
            "219/219 [==============================] - 1s 2ms/step - loss: 4185.8408 - mse: 4185.8408 - val_loss: 4155.8745 - val_mse: 4155.8745\n",
            "Epoch 152/200\n",
            "219/219 [==============================] - 1s 2ms/step - loss: 4131.4922 - mse: 4131.4922 - val_loss: 4101.5098 - val_mse: 4101.5098\n",
            "Epoch 153/200\n",
            "219/219 [==============================] - 1s 2ms/step - loss: 4076.9763 - mse: 4076.9763 - val_loss: 4047.3020 - val_mse: 4047.3020\n",
            "Epoch 154/200\n",
            "219/219 [==============================] - 1s 3ms/step - loss: 4022.6265 - mse: 4022.6265 - val_loss: 3993.4099 - val_mse: 3993.4099\n",
            "Epoch 155/200\n",
            "219/219 [==============================] - 1s 2ms/step - loss: 3969.1663 - mse: 3969.1663 - val_loss: 3939.7180 - val_mse: 3939.7180\n",
            "Epoch 156/200\n",
            "219/219 [==============================] - 1s 2ms/step - loss: 3915.3167 - mse: 3915.3167 - val_loss: 3886.6169 - val_mse: 3886.6169\n",
            "Epoch 157/200\n",
            "219/219 [==============================] - 1s 2ms/step - loss: 3863.1443 - mse: 3863.1443 - val_loss: 3834.1589 - val_mse: 3834.1589\n",
            "Epoch 158/200\n",
            "219/219 [==============================] - 1s 2ms/step - loss: 3810.6917 - mse: 3810.6917 - val_loss: 3782.1567 - val_mse: 3782.1567\n",
            "Epoch 159/200\n",
            "219/219 [==============================] - 1s 2ms/step - loss: 3759.1001 - mse: 3759.1001 - val_loss: 3730.5830 - val_mse: 3730.5830\n",
            "Epoch 160/200\n",
            "219/219 [==============================] - 1s 2ms/step - loss: 3707.8735 - mse: 3707.8735 - val_loss: 3679.3503 - val_mse: 3679.3503\n",
            "Epoch 161/200\n",
            "219/219 [==============================] - 1s 2ms/step - loss: 3656.7158 - mse: 3656.7158 - val_loss: 3628.6130 - val_mse: 3628.6130\n",
            "Epoch 162/200\n",
            "219/219 [==============================] - 1s 2ms/step - loss: 3606.6479 - mse: 3606.6479 - val_loss: 3578.3904 - val_mse: 3578.3904\n",
            "Epoch 163/200\n",
            "219/219 [==============================] - 1s 2ms/step - loss: 3555.9241 - mse: 3555.9241 - val_loss: 3528.0437 - val_mse: 3528.0437\n",
            "Epoch 164/200\n",
            "219/219 [==============================] - 1s 2ms/step - loss: 3506.2393 - mse: 3506.2393 - val_loss: 3478.3259 - val_mse: 3478.3259\n",
            "Epoch 165/200\n",
            "219/219 [==============================] - 1s 2ms/step - loss: 3456.7930 - mse: 3456.7930 - val_loss: 3429.3726 - val_mse: 3429.3726\n",
            "Epoch 166/200\n",
            "219/219 [==============================] - 1s 2ms/step - loss: 3408.0540 - mse: 3408.0540 - val_loss: 3380.6057 - val_mse: 3380.6057\n",
            "Epoch 167/200\n",
            "219/219 [==============================] - 1s 2ms/step - loss: 3359.5767 - mse: 3359.5767 - val_loss: 3332.0447 - val_mse: 3332.0447\n",
            "Epoch 168/200\n",
            "219/219 [==============================] - 1s 2ms/step - loss: 3311.2202 - mse: 3311.2202 - val_loss: 3284.3914 - val_mse: 3284.3914\n",
            "Epoch 169/200\n",
            "219/219 [==============================] - 1s 2ms/step - loss: 3263.2561 - mse: 3263.2561 - val_loss: 3236.5942 - val_mse: 3236.5942\n",
            "Epoch 170/200\n",
            "219/219 [==============================] - 1s 3ms/step - loss: 3215.7634 - mse: 3215.7634 - val_loss: 3188.9993 - val_mse: 3188.9993\n",
            "Epoch 171/200\n",
            "219/219 [==============================] - 1s 3ms/step - loss: 3168.5137 - mse: 3168.5137 - val_loss: 3142.0747 - val_mse: 3142.0747\n",
            "Epoch 172/200\n",
            "219/219 [==============================] - 1s 2ms/step - loss: 3122.3018 - mse: 3122.3018 - val_loss: 3095.5085 - val_mse: 3095.5085\n",
            "Epoch 173/200\n",
            "219/219 [==============================] - 1s 2ms/step - loss: 3075.7686 - mse: 3075.7686 - val_loss: 3049.5237 - val_mse: 3049.5237\n",
            "Epoch 174/200\n",
            "219/219 [==============================] - 1s 3ms/step - loss: 3029.5417 - mse: 3029.5417 - val_loss: 3003.6016 - val_mse: 3003.6016\n",
            "Epoch 175/200\n",
            "219/219 [==============================] - 1s 2ms/step - loss: 2984.7185 - mse: 2984.7185 - val_loss: 2958.3542 - val_mse: 2958.3542\n",
            "Epoch 176/200\n",
            "219/219 [==============================] - 1s 2ms/step - loss: 2939.2720 - mse: 2939.2720 - val_loss: 2913.6121 - val_mse: 2913.6121\n",
            "Epoch 177/200\n",
            "219/219 [==============================] - 1s 2ms/step - loss: 2894.7158 - mse: 2894.7158 - val_loss: 2869.2766 - val_mse: 2869.2766\n",
            "Epoch 178/200\n",
            "219/219 [==============================] - 1s 2ms/step - loss: 2850.3669 - mse: 2850.3669 - val_loss: 2825.1562 - val_mse: 2825.1562\n",
            "Epoch 179/200\n",
            "219/219 [==============================] - 1s 2ms/step - loss: 2806.5710 - mse: 2806.5710 - val_loss: 2781.5559 - val_mse: 2781.5559\n",
            "Epoch 180/200\n",
            "219/219 [==============================] - 1s 2ms/step - loss: 2763.2473 - mse: 2763.2473 - val_loss: 2738.6008 - val_mse: 2738.6008\n",
            "Epoch 181/200\n",
            "219/219 [==============================] - 1s 2ms/step - loss: 2720.2871 - mse: 2720.2871 - val_loss: 2695.7358 - val_mse: 2695.7358\n",
            "Epoch 182/200\n",
            "219/219 [==============================] - 1s 3ms/step - loss: 2677.9092 - mse: 2677.9092 - val_loss: 2653.4966 - val_mse: 2653.4966\n",
            "Epoch 183/200\n",
            "219/219 [==============================] - 1s 3ms/step - loss: 2636.0840 - mse: 2636.0840 - val_loss: 2611.6331 - val_mse: 2611.6331\n",
            "Epoch 184/200\n",
            "219/219 [==============================] - 1s 2ms/step - loss: 2594.2417 - mse: 2594.2417 - val_loss: 2570.2617 - val_mse: 2570.2617\n",
            "Epoch 185/200\n",
            "219/219 [==============================] - 1s 3ms/step - loss: 2552.8110 - mse: 2552.8110 - val_loss: 2528.8879 - val_mse: 2528.8879\n",
            "Epoch 186/200\n",
            "219/219 [==============================] - 1s 2ms/step - loss: 2511.8730 - mse: 2511.8730 - val_loss: 2487.8884 - val_mse: 2487.8884\n",
            "Epoch 187/200\n",
            "219/219 [==============================] - 1s 3ms/step - loss: 2470.6848 - mse: 2470.6848 - val_loss: 2447.1841 - val_mse: 2447.1841\n",
            "Epoch 188/200\n",
            "219/219 [==============================] - 1s 3ms/step - loss: 2430.6174 - mse: 2430.6174 - val_loss: 2407.2017 - val_mse: 2407.2017\n",
            "Epoch 189/200\n",
            "219/219 [==============================] - 1s 3ms/step - loss: 2391.2722 - mse: 2391.2722 - val_loss: 2367.7405 - val_mse: 2367.7405\n",
            "Epoch 190/200\n",
            "219/219 [==============================] - 1s 3ms/step - loss: 2351.1707 - mse: 2351.1707 - val_loss: 2328.3093 - val_mse: 2328.3093\n",
            "Epoch 191/200\n",
            "219/219 [==============================] - 1s 3ms/step - loss: 2312.0498 - mse: 2312.0498 - val_loss: 2289.2539 - val_mse: 2289.2539\n",
            "Epoch 192/200\n",
            "219/219 [==============================] - 1s 3ms/step - loss: 2273.6072 - mse: 2273.6072 - val_loss: 2250.9438 - val_mse: 2250.9438\n",
            "Epoch 193/200\n",
            "219/219 [==============================] - 1s 3ms/step - loss: 2234.8699 - mse: 2234.8699 - val_loss: 2212.7991 - val_mse: 2212.7991\n",
            "Epoch 194/200\n",
            "219/219 [==============================] - 1s 3ms/step - loss: 2197.0969 - mse: 2197.0969 - val_loss: 2175.2695 - val_mse: 2175.2695\n",
            "Epoch 195/200\n",
            "219/219 [==============================] - 1s 3ms/step - loss: 2159.8467 - mse: 2159.8467 - val_loss: 2137.7134 - val_mse: 2137.7134\n",
            "Epoch 196/200\n",
            "219/219 [==============================] - 1s 3ms/step - loss: 2122.7007 - mse: 2122.7007 - val_loss: 2100.7986 - val_mse: 2100.7986\n",
            "Epoch 197/200\n",
            "219/219 [==============================] - 1s 3ms/step - loss: 2085.5542 - mse: 2085.5542 - val_loss: 2064.2576 - val_mse: 2064.2576\n",
            "Epoch 198/200\n",
            "219/219 [==============================] - 1s 3ms/step - loss: 2049.4016 - mse: 2049.4016 - val_loss: 2027.8687 - val_mse: 2027.8687\n",
            "Epoch 199/200\n",
            "219/219 [==============================] - 1s 3ms/step - loss: 2012.9781 - mse: 2012.9781 - val_loss: 1991.9399 - val_mse: 1991.9399\n",
            "Epoch 200/200\n",
            "219/219 [==============================] - 1s 3ms/step - loss: 1977.4415 - mse: 1977.4415 - val_loss: 1956.2139 - val_mse: 1956.2139\n"
          ],
          "name": "stdout"
        }
      ]
    },
    {
      "cell_type": "code",
      "metadata": {
        "id": "ETeY7-KP5u1P",
        "outputId": "549cde48-9660-44ef-8b19-c325bf8d87b1",
        "colab": {
          "base_uri": "https://localhost:8080/",
          "height": 187
        }
      },
      "source": [
        "reg_model.get_weights()"
      ],
      "execution_count": 14,
      "outputs": [
        {
          "output_type": "execute_result",
          "data": {
            "text/plain": [
              "[array([[17.827974  ],\n",
              "        [41.856087  ],\n",
              "        [40.961445  ],\n",
              "        [39.115757  ],\n",
              "        [37.724316  ],\n",
              "        [21.508247  ],\n",
              "        [31.603086  ],\n",
              "        [ 0.44681638],\n",
              "        [ 0.7067358 ],\n",
              "        [ 1.1346073 ]], dtype=float32), array([0.31721562], dtype=float32)]"
            ]
          },
          "metadata": {
            "tags": []
          },
          "execution_count": 14
        }
      ]
    },
    {
      "cell_type": "code",
      "metadata": {
        "id": "SIpAq6Hu5u1T"
      },
      "source": [
        "x = np.random.uniform(low=5, high=10, size=10000)\n",
        "y = (1000000/(np.exp(5*(x)**0.5)+2**x+5))"
      ],
      "execution_count": 15,
      "outputs": []
    },
    {
      "cell_type": "code",
      "metadata": {
        "id": "VFUKD6Gl5u1W",
        "outputId": "d303a966-9c4b-4ba6-e5a5-533b4e15d798",
        "colab": {
          "base_uri": "https://localhost:8080/",
          "height": 282
        }
      },
      "source": [
        "plt.scatter(x,y)"
      ],
      "execution_count": 16,
      "outputs": [
        {
          "output_type": "execute_result",
          "data": {
            "text/plain": [
              "<matplotlib.collections.PathCollection at 0x7f40e0344c88>"
            ]
          },
          "metadata": {
            "tags": []
          },
          "execution_count": 16
        },
        {
          "output_type": "display_data",
          "data": {
            "image/png": "[encoded data removed]",
            "text/plain": [
              "<Figure size 432x288 with 1 Axes>"
            ]
          },
          "metadata": {
            "tags": [],
            "needs_background": "light"
          }
        }
      ]
    },
    {
      "cell_type": "code",
      "metadata": {
        "id": "Sz5fCAzP5u1a",
        "outputId": "4e95f8fa-a00d-4e64-ff04-2ddecaae9ad4",
        "colab": {
          "base_uri": "https://localhost:8080/",
          "height": 255
        }
      },
      "source": [
        "inp_nl_reg = Input(shape=(1,), dtype=np.float32)\n",
        "h1_nl_reg = Dense(units=8, activation='relu')(inp_nl_reg)\n",
        "out_nl_reg = Dense(units=1, activation='linear')(h1_nl_reg)\n",
        "model_nl_reg = Model(inp_nl_reg, out_nl_reg)\n",
        "model_nl_reg.summary()"
      ],
      "execution_count": 26,
      "outputs": [
        {
          "output_type": "stream",
          "text": [
            "Model: \"functional_9\"\n",
            "_________________________________________________________________\n",
            "Layer (type)                 Output Shape              Param #   \n",
            "=================================================================\n",
            "input_5 (InputLayer)         [(None, 1)]               0         \n",
            "_________________________________________________________________\n",
            "dense_7 (Dense)              (None, 8)                 16        \n",
            "_________________________________________________________________\n",
            "dense_8 (Dense)              (None, 1)                 9         \n",
            "=================================================================\n",
            "Total params: 25\n",
            "Trainable params: 25\n",
            "Non-trainable params: 0\n",
            "_________________________________________________________________\n"
          ],
          "name": "stdout"
        }
      ]
    },
    {
      "cell_type": "code",
      "metadata": {
        "id": "39KHjMjR5u1n",
        "outputId": "3fc99504-b17b-4f15-a86c-86457f57f158",
        "colab": {
          "base_uri": "https://localhost:8080/",
          "height": 1000
        }
      },
      "source": [
        "model_nl_reg.compile(loss='mse', metrics=['mse'])\n",
        "hist_nl_reg = model_nl_reg.fit(x=x.reshape(-1,1), y=y, batch_size=64, epochs=100, validation_split=0.3)"
      ],
      "execution_count": 27,
      "outputs": [
        {
          "output_type": "stream",
          "text": [
            "Epoch 1/100\n",
            "110/110 [==============================] - 0s 3ms/step - loss: 31.4714 - mse: 31.4714 - val_loss: 19.3330 - val_mse: 19.3330\n",
            "Epoch 2/100\n",
            "110/110 [==============================] - 0s 3ms/step - loss: 13.7847 - mse: 13.7847 - val_loss: 13.7814 - val_mse: 13.7814\n",
            "Epoch 3/100\n",
            "110/110 [==============================] - 0s 3ms/step - loss: 12.3828 - mse: 12.3828 - val_loss: 13.4455 - val_mse: 13.4455\n",
            "Epoch 4/100\n",
            "110/110 [==============================] - 0s 3ms/step - loss: 12.0140 - mse: 12.0140 - val_loss: 13.0208 - val_mse: 13.0208\n",
            "Epoch 5/100\n",
            "110/110 [==============================] - 0s 3ms/step - loss: 11.6576 - mse: 11.6576 - val_loss: 12.6655 - val_mse: 12.6655\n",
            "Epoch 6/100\n",
            "110/110 [==============================] - 0s 3ms/step - loss: 11.2739 - mse: 11.2739 - val_loss: 12.2345 - val_mse: 12.2345\n",
            "Epoch 7/100\n",
            "110/110 [==============================] - 0s 3ms/step - loss: 10.8944 - mse: 10.8944 - val_loss: 11.8436 - val_mse: 11.8436\n",
            "Epoch 8/100\n",
            "110/110 [==============================] - 0s 3ms/step - loss: 10.4733 - mse: 10.4733 - val_loss: 11.3415 - val_mse: 11.3415\n",
            "Epoch 9/100\n",
            "110/110 [==============================] - 0s 3ms/step - loss: 10.0192 - mse: 10.0192 - val_loss: 10.8735 - val_mse: 10.8735\n",
            "Epoch 10/100\n",
            "110/110 [==============================] - 0s 3ms/step - loss: 9.5500 - mse: 9.5500 - val_loss: 10.3446 - val_mse: 10.3446\n",
            "Epoch 11/100\n",
            "110/110 [==============================] - 0s 3ms/step - loss: 9.0746 - mse: 9.0746 - val_loss: 9.8576 - val_mse: 9.8576\n",
            "Epoch 12/100\n",
            "110/110 [==============================] - 0s 3ms/step - loss: 8.5828 - mse: 8.5828 - val_loss: 9.2942 - val_mse: 9.2942\n",
            "Epoch 13/100\n",
            "110/110 [==============================] - 0s 3ms/step - loss: 8.0783 - mse: 8.0783 - val_loss: 8.7571 - val_mse: 8.7571\n",
            "Epoch 14/100\n",
            "110/110 [==============================] - 0s 3ms/step - loss: 7.5756 - mse: 7.5756 - val_loss: 8.2039 - val_mse: 8.2039\n",
            "Epoch 15/100\n",
            "110/110 [==============================] - 0s 3ms/step - loss: 7.0334 - mse: 7.0334 - val_loss: 7.6275 - val_mse: 7.6275\n",
            "Epoch 16/100\n",
            "110/110 [==============================] - 0s 3ms/step - loss: 6.4910 - mse: 6.4910 - val_loss: 7.0335 - val_mse: 7.0335\n",
            "Epoch 17/100\n",
            "110/110 [==============================] - 0s 3ms/step - loss: 5.9780 - mse: 5.9780 - val_loss: 6.4820 - val_mse: 6.4820\n",
            "Epoch 18/100\n",
            "110/110 [==============================] - 0s 3ms/step - loss: 5.5010 - mse: 5.5010 - val_loss: 6.0311 - val_mse: 6.0311\n",
            "Epoch 19/100\n",
            "110/110 [==============================] - 0s 3ms/step - loss: 5.0667 - mse: 5.0667 - val_loss: 5.5396 - val_mse: 5.5396\n",
            "Epoch 20/100\n",
            "110/110 [==============================] - 0s 3ms/step - loss: 4.6609 - mse: 4.6609 - val_loss: 5.0853 - val_mse: 5.0853\n",
            "Epoch 21/100\n",
            "110/110 [==============================] - 0s 3ms/step - loss: 4.2927 - mse: 4.2927 - val_loss: 4.7053 - val_mse: 4.7053\n",
            "Epoch 22/100\n",
            "110/110 [==============================] - 0s 3ms/step - loss: 3.9655 - mse: 3.9655 - val_loss: 4.3576 - val_mse: 4.3576\n",
            "Epoch 23/100\n",
            "110/110 [==============================] - 0s 3ms/step - loss: 3.6949 - mse: 3.6949 - val_loss: 4.0998 - val_mse: 4.0998\n",
            "Epoch 24/100\n",
            "110/110 [==============================] - 0s 3ms/step - loss: 3.4919 - mse: 3.4919 - val_loss: 3.8561 - val_mse: 3.8561\n",
            "Epoch 25/100\n",
            "110/110 [==============================] - 0s 3ms/step - loss: 3.3267 - mse: 3.3267 - val_loss: 3.6918 - val_mse: 3.6918\n",
            "Epoch 26/100\n",
            "110/110 [==============================] - 0s 3ms/step - loss: 3.2113 - mse: 3.2113 - val_loss: 3.5622 - val_mse: 3.5622\n",
            "Epoch 27/100\n",
            "110/110 [==============================] - 0s 3ms/step - loss: 3.1283 - mse: 3.1283 - val_loss: 3.4979 - val_mse: 3.4979\n",
            "Epoch 28/100\n",
            "110/110 [==============================] - 0s 3ms/step - loss: 3.0763 - mse: 3.0763 - val_loss: 3.4109 - val_mse: 3.4109\n",
            "Epoch 29/100\n",
            "110/110 [==============================] - 0s 3ms/step - loss: 3.0414 - mse: 3.0414 - val_loss: 3.3749 - val_mse: 3.3749\n",
            "Epoch 30/100\n",
            "110/110 [==============================] - 0s 3ms/step - loss: 3.0186 - mse: 3.0186 - val_loss: 3.3536 - val_mse: 3.3536\n",
            "Epoch 31/100\n",
            "110/110 [==============================] - 0s 3ms/step - loss: 3.0028 - mse: 3.0028 - val_loss: 3.3196 - val_mse: 3.3196\n",
            "Epoch 32/100\n",
            "110/110 [==============================] - 0s 3ms/step - loss: 2.9899 - mse: 2.9899 - val_loss: 3.3437 - val_mse: 3.3437\n",
            "Epoch 33/100\n",
            "110/110 [==============================] - 0s 3ms/step - loss: 2.9893 - mse: 2.9893 - val_loss: 3.3002 - val_mse: 3.3002\n",
            "Epoch 34/100\n",
            "110/110 [==============================] - 0s 3ms/step - loss: 2.9848 - mse: 2.9848 - val_loss: 3.3538 - val_mse: 3.3538\n",
            "Epoch 35/100\n",
            "110/110 [==============================] - 0s 3ms/step - loss: 2.9857 - mse: 2.9857 - val_loss: 3.2786 - val_mse: 3.2786\n",
            "Epoch 36/100\n",
            "110/110 [==============================] - 0s 3ms/step - loss: 2.9801 - mse: 2.9801 - val_loss: 3.2973 - val_mse: 3.2973\n",
            "Epoch 37/100\n",
            "110/110 [==============================] - 0s 3ms/step - loss: 2.9781 - mse: 2.9781 - val_loss: 3.2850 - val_mse: 3.2850\n",
            "Epoch 38/100\n",
            "110/110 [==============================] - 0s 3ms/step - loss: 2.9782 - mse: 2.9782 - val_loss: 3.2686 - val_mse: 3.2686\n",
            "Epoch 39/100\n",
            "110/110 [==============================] - 0s 3ms/step - loss: 2.9765 - mse: 2.9765 - val_loss: 3.2742 - val_mse: 3.2742\n",
            "Epoch 40/100\n",
            "110/110 [==============================] - 0s 3ms/step - loss: 2.9775 - mse: 2.9775 - val_loss: 3.2718 - val_mse: 3.2718\n",
            "Epoch 41/100\n",
            "110/110 [==============================] - 0s 3ms/step - loss: 2.9773 - mse: 2.9773 - val_loss: 3.2916 - val_mse: 3.2916\n",
            "Epoch 42/100\n",
            "110/110 [==============================] - 0s 3ms/step - loss: 2.9780 - mse: 2.9780 - val_loss: 3.2805 - val_mse: 3.2805\n",
            "Epoch 43/100\n",
            "110/110 [==============================] - 0s 3ms/step - loss: 2.9782 - mse: 2.9782 - val_loss: 3.2641 - val_mse: 3.2641\n",
            "Epoch 44/100\n",
            "110/110 [==============================] - 0s 3ms/step - loss: 2.9788 - mse: 2.9788 - val_loss: 3.2827 - val_mse: 3.2827\n",
            "Epoch 45/100\n",
            "110/110 [==============================] - 0s 3ms/step - loss: 2.9805 - mse: 2.9805 - val_loss: 3.2646 - val_mse: 3.2646\n",
            "Epoch 46/100\n",
            "110/110 [==============================] - 0s 3ms/step - loss: 2.9816 - mse: 2.9816 - val_loss: 3.2617 - val_mse: 3.2617\n",
            "Epoch 47/100\n",
            "110/110 [==============================] - 0s 3ms/step - loss: 2.9806 - mse: 2.9806 - val_loss: 3.2762 - val_mse: 3.2762\n",
            "Epoch 48/100\n",
            "110/110 [==============================] - 0s 3ms/step - loss: 2.9803 - mse: 2.9803 - val_loss: 3.2802 - val_mse: 3.2802\n",
            "Epoch 49/100\n",
            "110/110 [==============================] - 0s 3ms/step - loss: 2.9838 - mse: 2.9838 - val_loss: 3.2620 - val_mse: 3.2620\n",
            "Epoch 50/100\n",
            "110/110 [==============================] - 0s 3ms/step - loss: 2.9788 - mse: 2.9788 - val_loss: 3.2709 - val_mse: 3.2709\n",
            "Epoch 51/100\n",
            "110/110 [==============================] - 0s 3ms/step - loss: 2.9786 - mse: 2.9786 - val_loss: 3.2624 - val_mse: 3.2624\n",
            "Epoch 52/100\n",
            "110/110 [==============================] - 0s 3ms/step - loss: 2.9790 - mse: 2.9790 - val_loss: 3.2700 - val_mse: 3.2700\n",
            "Epoch 53/100\n",
            "110/110 [==============================] - 0s 3ms/step - loss: 2.9807 - mse: 2.9807 - val_loss: 3.2726 - val_mse: 3.2726\n",
            "Epoch 54/100\n",
            "110/110 [==============================] - 0s 3ms/step - loss: 2.9798 - mse: 2.9798 - val_loss: 3.2910 - val_mse: 3.2910\n",
            "Epoch 55/100\n",
            "110/110 [==============================] - 0s 3ms/step - loss: 2.9843 - mse: 2.9843 - val_loss: 3.2652 - val_mse: 3.2652\n",
            "Epoch 56/100\n",
            "110/110 [==============================] - 0s 3ms/step - loss: 2.9803 - mse: 2.9803 - val_loss: 3.2635 - val_mse: 3.2635\n",
            "Epoch 57/100\n",
            "110/110 [==============================] - 0s 3ms/step - loss: 2.9781 - mse: 2.9781 - val_loss: 3.2750 - val_mse: 3.2750\n",
            "Epoch 58/100\n",
            "110/110 [==============================] - 0s 3ms/step - loss: 2.9763 - mse: 2.9763 - val_loss: 3.2621 - val_mse: 3.2621\n",
            "Epoch 59/100\n",
            "110/110 [==============================] - 0s 3ms/step - loss: 2.9794 - mse: 2.9794 - val_loss: 3.2646 - val_mse: 3.2646\n",
            "Epoch 60/100\n",
            "110/110 [==============================] - 0s 3ms/step - loss: 2.9800 - mse: 2.9800 - val_loss: 3.2692 - val_mse: 3.2692\n",
            "Epoch 61/100\n",
            "110/110 [==============================] - 0s 3ms/step - loss: 2.9778 - mse: 2.9778 - val_loss: 3.2616 - val_mse: 3.2616\n",
            "Epoch 62/100\n",
            "110/110 [==============================] - 0s 3ms/step - loss: 2.9800 - mse: 2.9800 - val_loss: 3.3165 - val_mse: 3.3165\n",
            "Epoch 63/100\n",
            "110/110 [==============================] - 0s 3ms/step - loss: 2.9807 - mse: 2.9807 - val_loss: 3.2619 - val_mse: 3.2619\n",
            "Epoch 64/100\n",
            "110/110 [==============================] - 0s 3ms/step - loss: 2.9771 - mse: 2.9771 - val_loss: 3.2627 - val_mse: 3.2627\n",
            "Epoch 65/100\n",
            "110/110 [==============================] - 0s 3ms/step - loss: 2.9777 - mse: 2.9777 - val_loss: 3.2664 - val_mse: 3.2664\n",
            "Epoch 66/100\n",
            "110/110 [==============================] - 0s 3ms/step - loss: 2.9815 - mse: 2.9815 - val_loss: 3.2695 - val_mse: 3.2695\n",
            "Epoch 67/100\n",
            "110/110 [==============================] - 0s 3ms/step - loss: 2.9750 - mse: 2.9750 - val_loss: 3.3012 - val_mse: 3.3012\n",
            "Epoch 68/100\n",
            "110/110 [==============================] - 0s 3ms/step - loss: 2.9784 - mse: 2.9784 - val_loss: 3.3458 - val_mse: 3.3458\n",
            "Epoch 69/100\n",
            "110/110 [==============================] - 0s 3ms/step - loss: 2.9792 - mse: 2.9792 - val_loss: 3.2606 - val_mse: 3.2606\n",
            "Epoch 70/100\n",
            "110/110 [==============================] - 0s 3ms/step - loss: 2.9802 - mse: 2.9802 - val_loss: 3.2979 - val_mse: 3.2979\n",
            "Epoch 71/100\n",
            "110/110 [==============================] - 0s 3ms/step - loss: 2.9787 - mse: 2.9787 - val_loss: 3.2621 - val_mse: 3.2621\n",
            "Epoch 72/100\n",
            "110/110 [==============================] - 0s 3ms/step - loss: 2.9783 - mse: 2.9783 - val_loss: 3.2627 - val_mse: 3.2627\n",
            "Epoch 73/100\n",
            "110/110 [==============================] - 0s 3ms/step - loss: 2.9793 - mse: 2.9793 - val_loss: 3.2621 - val_mse: 3.2621\n",
            "Epoch 74/100\n",
            "110/110 [==============================] - 0s 3ms/step - loss: 2.9786 - mse: 2.9786 - val_loss: 3.2888 - val_mse: 3.2888\n",
            "Epoch 75/100\n",
            "110/110 [==============================] - 0s 3ms/step - loss: 2.9790 - mse: 2.9790 - val_loss: 3.2607 - val_mse: 3.2607\n",
            "Epoch 76/100\n",
            "110/110 [==============================] - 0s 3ms/step - loss: 2.9776 - mse: 2.9776 - val_loss: 3.2873 - val_mse: 3.2873\n",
            "Epoch 77/100\n",
            "110/110 [==============================] - 0s 3ms/step - loss: 2.9786 - mse: 2.9786 - val_loss: 3.2642 - val_mse: 3.2642\n",
            "Epoch 78/100\n",
            "110/110 [==============================] - 0s 3ms/step - loss: 2.9783 - mse: 2.9783 - val_loss: 3.3184 - val_mse: 3.3184\n",
            "Epoch 79/100\n",
            "110/110 [==============================] - 0s 3ms/step - loss: 2.9795 - mse: 2.9795 - val_loss: 3.2627 - val_mse: 3.2627\n",
            "Epoch 80/100\n",
            "110/110 [==============================] - 0s 3ms/step - loss: 2.9831 - mse: 2.9831 - val_loss: 3.2627 - val_mse: 3.2627\n",
            "Epoch 81/100\n",
            "110/110 [==============================] - 0s 3ms/step - loss: 2.9789 - mse: 2.9789 - val_loss: 3.2675 - val_mse: 3.2675\n",
            "Epoch 82/100\n",
            "110/110 [==============================] - 0s 3ms/step - loss: 2.9807 - mse: 2.9807 - val_loss: 3.2644 - val_mse: 3.2644\n",
            "Epoch 83/100\n",
            "110/110 [==============================] - 0s 3ms/step - loss: 2.9773 - mse: 2.9773 - val_loss: 3.2630 - val_mse: 3.2630\n",
            "Epoch 84/100\n",
            "110/110 [==============================] - 0s 3ms/step - loss: 2.9787 - mse: 2.9787 - val_loss: 3.2967 - val_mse: 3.2967\n",
            "Epoch 85/100\n",
            "110/110 [==============================] - 0s 3ms/step - loss: 2.9793 - mse: 2.9793 - val_loss: 3.2629 - val_mse: 3.2629\n",
            "Epoch 86/100\n",
            "110/110 [==============================] - 0s 4ms/step - loss: 2.9833 - mse: 2.9833 - val_loss: 3.2608 - val_mse: 3.2608\n",
            "Epoch 87/100\n",
            "110/110 [==============================] - 0s 3ms/step - loss: 2.9776 - mse: 2.9776 - val_loss: 3.2602 - val_mse: 3.2602\n",
            "Epoch 88/100\n",
            "110/110 [==============================] - 0s 3ms/step - loss: 2.9795 - mse: 2.9795 - val_loss: 3.2837 - val_mse: 3.2837\n",
            "Epoch 89/100\n",
            "110/110 [==============================] - 0s 3ms/step - loss: 2.9808 - mse: 2.9808 - val_loss: 3.3324 - val_mse: 3.3324\n",
            "Epoch 90/100\n",
            "110/110 [==============================] - 0s 3ms/step - loss: 2.9805 - mse: 2.9805 - val_loss: 3.2719 - val_mse: 3.2719\n",
            "Epoch 91/100\n",
            "110/110 [==============================] - 0s 3ms/step - loss: 2.9828 - mse: 2.9828 - val_loss: 3.2600 - val_mse: 3.2600\n",
            "Epoch 92/100\n",
            "110/110 [==============================] - 0s 3ms/step - loss: 2.9791 - mse: 2.9791 - val_loss: 3.3006 - val_mse: 3.3006\n",
            "Epoch 93/100\n",
            "110/110 [==============================] - 0s 3ms/step - loss: 2.9813 - mse: 2.9813 - val_loss: 3.2607 - val_mse: 3.2607\n",
            "Epoch 94/100\n",
            "110/110 [==============================] - 0s 3ms/step - loss: 2.9796 - mse: 2.9796 - val_loss: 3.2665 - val_mse: 3.2665\n",
            "Epoch 95/100\n",
            "110/110 [==============================] - 0s 3ms/step - loss: 2.9759 - mse: 2.9759 - val_loss: 3.2720 - val_mse: 3.2720\n",
            "Epoch 96/100\n",
            "110/110 [==============================] - 0s 3ms/step - loss: 2.9808 - mse: 2.9808 - val_loss: 3.2622 - val_mse: 3.2622\n",
            "Epoch 97/100\n",
            "110/110 [==============================] - 0s 3ms/step - loss: 2.9789 - mse: 2.9789 - val_loss: 3.2737 - val_mse: 3.2737\n",
            "Epoch 98/100\n",
            "110/110 [==============================] - 0s 3ms/step - loss: 2.9790 - mse: 2.9790 - val_loss: 3.2602 - val_mse: 3.2602\n",
            "Epoch 99/100\n",
            "110/110 [==============================] - 0s 3ms/step - loss: 2.9795 - mse: 2.9795 - val_loss: 3.2802 - val_mse: 3.2802\n",
            "Epoch 100/100\n",
            "110/110 [==============================] - 0s 3ms/step - loss: 2.9798 - mse: 2.9798 - val_loss: 3.3025 - val_mse: 3.3025\n"
          ],
          "name": "stdout"
        }
      ]
    },
    {
      "cell_type": "code",
      "metadata": {
        "id": "utFKS9xd5u1s",
        "outputId": "ea252e41-1c1e-4540-a55d-1c98a8cba3da",
        "colab": {
          "base_uri": "https://localhost:8080/",
          "height": 282
        }
      },
      "source": [
        "plt.plot(hist_nl_reg.epoch, hist_nl_reg.history['val_loss'], c='red')\n",
        "plt.plot(hist_nl_reg.epoch, hist_nl_reg.history['loss'], c='blue')"
      ],
      "execution_count": 28,
      "outputs": [
        {
          "output_type": "execute_result",
          "data": {
            "text/plain": [
              "[<matplotlib.lines.Line2D at 0x7f408e1d4630>]"
            ]
          },
          "metadata": {
            "tags": []
          },
          "execution_count": 28
        },
        {
          "output_type": "display_data",
          "data": {
            "image/png": "[encoded data removed]",
            "text/plain": [
              "<Figure size 432x288 with 1 Axes>"
            ]
          },
          "metadata": {
            "tags": [],
            "needs_background": "light"
          }
        }
      ]
    },
    {
      "cell_type": "code",
      "metadata": {
        "id": "64-Y37xE5u1x",
        "outputId": "759c62b9-5913-4e9c-d0a9-2a596d2a2046",
        "colab": {
          "base_uri": "https://localhost:8080/",
          "height": 255
        }
      },
      "source": [
        "class1_inp = Input(shape=(2,), dtype=np.float32)\n",
        "h1_class1 = Dense(units=4, activation='relu')(class1_inp)\n",
        "# h1_class1 = Dense(units=8, activation='relu')(h1_class1)\n",
        "out_class1 = Dense(units=1, activation='sigmoid')(h1_class1)\n",
        "model_class1 = Model(class1_inp, out_class1)\n",
        "model_class1.summary()"
      ],
      "execution_count": 29,
      "outputs": [
        {
          "output_type": "stream",
          "text": [
            "Model: \"functional_11\"\n",
            "_________________________________________________________________\n",
            "Layer (type)                 Output Shape              Param #   \n",
            "=================================================================\n",
            "input_6 (InputLayer)         [(None, 2)]               0         \n",
            "_________________________________________________________________\n",
            "dense_9 (Dense)              (None, 4)                 12        \n",
            "_________________________________________________________________\n",
            "dense_10 (Dense)             (None, 1)                 5         \n",
            "=================================================================\n",
            "Total params: 17\n",
            "Trainable params: 17\n",
            "Non-trainable params: 0\n",
            "_________________________________________________________________\n"
          ],
          "name": "stdout"
        }
      ]
    },
    {
      "cell_type": "code",
      "metadata": {
        "id": "3IljROTe5u11",
        "outputId": "0d8df62f-1131-4212-adcb-6a6295bbe464",
        "colab": {
          "base_uri": "https://localhost:8080/",
          "height": 1000
        }
      },
      "source": [
        "model_class1.compile(loss='binary_crossentropy', metrics=['acc'])\n",
        "hist_model_class1 = model_class1.fit(x=data_moons, y=class_moons, batch_size=64, epochs=100, validation_split=0.3)"
      ],
      "execution_count": 34,
      "outputs": [
        {
          "output_type": "stream",
          "text": [
            "Epoch 1/100\n",
            "110/110 [==============================] - 0s 4ms/step - loss: 0.2035 - acc: 0.8950 - val_loss: 0.1992 - val_acc: 0.8947\n",
            "Epoch 2/100\n",
            "110/110 [==============================] - 0s 3ms/step - loss: 0.2035 - acc: 0.8941 - val_loss: 0.1988 - val_acc: 0.8957\n",
            "Epoch 3/100\n",
            "110/110 [==============================] - 0s 3ms/step - loss: 0.2033 - acc: 0.8943 - val_loss: 0.1987 - val_acc: 0.8993\n",
            "Epoch 4/100\n",
            "110/110 [==============================] - 0s 3ms/step - loss: 0.2033 - acc: 0.8950 - val_loss: 0.1987 - val_acc: 0.8990\n",
            "Epoch 5/100\n",
            "110/110 [==============================] - 0s 3ms/step - loss: 0.2035 - acc: 0.8950 - val_loss: 0.1987 - val_acc: 0.8963\n",
            "Epoch 6/100\n",
            "110/110 [==============================] - 0s 3ms/step - loss: 0.2033 - acc: 0.8950 - val_loss: 0.1991 - val_acc: 0.8947\n",
            "Epoch 7/100\n",
            "110/110 [==============================] - 0s 3ms/step - loss: 0.2032 - acc: 0.8937 - val_loss: 0.1986 - val_acc: 0.8990\n",
            "Epoch 8/100\n",
            "110/110 [==============================] - 0s 3ms/step - loss: 0.2034 - acc: 0.8957 - val_loss: 0.1987 - val_acc: 0.8977\n",
            "Epoch 9/100\n",
            "110/110 [==============================] - 0s 3ms/step - loss: 0.2033 - acc: 0.8956 - val_loss: 0.1987 - val_acc: 0.8960\n",
            "Epoch 10/100\n",
            "110/110 [==============================] - 0s 3ms/step - loss: 0.2033 - acc: 0.8944 - val_loss: 0.1988 - val_acc: 0.8953\n",
            "Epoch 11/100\n",
            "110/110 [==============================] - 0s 3ms/step - loss: 0.2033 - acc: 0.8946 - val_loss: 0.1987 - val_acc: 0.8957\n",
            "Epoch 12/100\n",
            "110/110 [==============================] - 0s 3ms/step - loss: 0.2033 - acc: 0.8960 - val_loss: 0.1988 - val_acc: 0.8947\n",
            "Epoch 13/100\n",
            "110/110 [==============================] - 0s 3ms/step - loss: 0.2033 - acc: 0.8939 - val_loss: 0.1987 - val_acc: 0.8957\n",
            "Epoch 14/100\n",
            "110/110 [==============================] - 0s 3ms/step - loss: 0.2032 - acc: 0.8953 - val_loss: 0.1986 - val_acc: 0.8980\n",
            "Epoch 15/100\n",
            "110/110 [==============================] - 0s 3ms/step - loss: 0.2034 - acc: 0.8950 - val_loss: 0.1988 - val_acc: 0.8947\n",
            "Epoch 16/100\n",
            "110/110 [==============================] - 0s 3ms/step - loss: 0.2033 - acc: 0.8947 - val_loss: 0.1988 - val_acc: 0.8947\n",
            "Epoch 17/100\n",
            "110/110 [==============================] - 0s 3ms/step - loss: 0.2032 - acc: 0.8944 - val_loss: 0.1987 - val_acc: 0.8950\n",
            "Epoch 18/100\n",
            "110/110 [==============================] - 0s 3ms/step - loss: 0.2032 - acc: 0.8943 - val_loss: 0.1987 - val_acc: 0.8950\n",
            "Epoch 19/100\n",
            "110/110 [==============================] - 0s 3ms/step - loss: 0.2032 - acc: 0.8949 - val_loss: 0.1986 - val_acc: 0.8957\n",
            "Epoch 20/100\n",
            "110/110 [==============================] - 0s 3ms/step - loss: 0.2032 - acc: 0.8951 - val_loss: 0.1988 - val_acc: 0.8947\n",
            "Epoch 21/100\n",
            "110/110 [==============================] - 0s 3ms/step - loss: 0.2031 - acc: 0.8951 - val_loss: 0.1992 - val_acc: 0.8957\n",
            "Epoch 22/100\n",
            "110/110 [==============================] - 0s 3ms/step - loss: 0.2033 - acc: 0.8947 - val_loss: 0.1986 - val_acc: 0.8960\n",
            "Epoch 23/100\n",
            "110/110 [==============================] - 0s 3ms/step - loss: 0.2032 - acc: 0.8949 - val_loss: 0.1986 - val_acc: 0.8960\n",
            "Epoch 24/100\n",
            "110/110 [==============================] - 0s 3ms/step - loss: 0.2032 - acc: 0.8946 - val_loss: 0.1986 - val_acc: 0.8963\n",
            "Epoch 25/100\n",
            "110/110 [==============================] - 0s 3ms/step - loss: 0.2031 - acc: 0.8950 - val_loss: 0.1985 - val_acc: 0.8970\n",
            "Epoch 26/100\n",
            "110/110 [==============================] - 0s 3ms/step - loss: 0.2031 - acc: 0.8946 - val_loss: 0.1985 - val_acc: 0.8993\n",
            "Epoch 27/100\n",
            "110/110 [==============================] - 0s 3ms/step - loss: 0.2032 - acc: 0.8949 - val_loss: 0.1985 - val_acc: 0.8993\n",
            "Epoch 28/100\n",
            "110/110 [==============================] - 0s 3ms/step - loss: 0.2030 - acc: 0.8944 - val_loss: 0.1985 - val_acc: 0.9003\n",
            "Epoch 29/100\n",
            "110/110 [==============================] - 0s 3ms/step - loss: 0.2032 - acc: 0.8946 - val_loss: 0.1985 - val_acc: 0.8977\n",
            "Epoch 30/100\n",
            "110/110 [==============================] - 0s 3ms/step - loss: 0.2033 - acc: 0.8951 - val_loss: 0.1986 - val_acc: 0.8950\n",
            "Epoch 31/100\n",
            "110/110 [==============================] - 0s 3ms/step - loss: 0.2031 - acc: 0.8950 - val_loss: 0.1987 - val_acc: 0.8947\n",
            "Epoch 32/100\n",
            "110/110 [==============================] - 0s 3ms/step - loss: 0.2031 - acc: 0.8946 - val_loss: 0.1990 - val_acc: 0.8947\n",
            "Epoch 33/100\n",
            "110/110 [==============================] - 0s 3ms/step - loss: 0.2032 - acc: 0.8941 - val_loss: 0.1988 - val_acc: 0.8943\n",
            "Epoch 34/100\n",
            "110/110 [==============================] - 0s 3ms/step - loss: 0.2031 - acc: 0.8941 - val_loss: 0.1990 - val_acc: 0.8943\n",
            "Epoch 35/100\n",
            "110/110 [==============================] - 0s 3ms/step - loss: 0.2032 - acc: 0.8936 - val_loss: 0.1985 - val_acc: 0.8963\n",
            "Epoch 36/100\n",
            "110/110 [==============================] - 0s 3ms/step - loss: 0.2031 - acc: 0.8951 - val_loss: 0.1986 - val_acc: 0.8950\n",
            "Epoch 37/100\n",
            "110/110 [==============================] - 0s 3ms/step - loss: 0.2031 - acc: 0.8943 - val_loss: 0.1986 - val_acc: 0.8950\n",
            "Epoch 38/100\n",
            "110/110 [==============================] - 0s 3ms/step - loss: 0.2031 - acc: 0.8947 - val_loss: 0.1987 - val_acc: 0.8943\n",
            "Epoch 39/100\n",
            "110/110 [==============================] - 0s 3ms/step - loss: 0.2030 - acc: 0.8941 - val_loss: 0.1984 - val_acc: 0.8967\n",
            "Epoch 40/100\n",
            "110/110 [==============================] - 0s 3ms/step - loss: 0.2031 - acc: 0.8949 - val_loss: 0.1987 - val_acc: 0.8947\n",
            "Epoch 41/100\n",
            "110/110 [==============================] - 0s 3ms/step - loss: 0.2031 - acc: 0.8954 - val_loss: 0.1985 - val_acc: 0.8957\n",
            "Epoch 42/100\n",
            "110/110 [==============================] - 0s 3ms/step - loss: 0.2031 - acc: 0.8946 - val_loss: 0.1984 - val_acc: 0.8987\n",
            "Epoch 43/100\n",
            "110/110 [==============================] - 0s 3ms/step - loss: 0.2031 - acc: 0.8949 - val_loss: 0.1986 - val_acc: 0.8950\n",
            "Epoch 44/100\n",
            "110/110 [==============================] - 0s 3ms/step - loss: 0.2031 - acc: 0.8943 - val_loss: 0.1985 - val_acc: 0.8957\n",
            "Epoch 45/100\n",
            "110/110 [==============================] - 0s 3ms/step - loss: 0.2030 - acc: 0.8954 - val_loss: 0.1985 - val_acc: 0.8957\n",
            "Epoch 46/100\n",
            "110/110 [==============================] - 0s 3ms/step - loss: 0.2031 - acc: 0.8953 - val_loss: 0.1985 - val_acc: 0.8957\n",
            "Epoch 47/100\n",
            "110/110 [==============================] - 0s 4ms/step - loss: 0.2031 - acc: 0.8949 - val_loss: 0.1985 - val_acc: 0.8957\n",
            "Epoch 48/100\n",
            "110/110 [==============================] - 0s 4ms/step - loss: 0.2031 - acc: 0.8946 - val_loss: 0.1985 - val_acc: 0.8953\n",
            "Epoch 49/100\n",
            "110/110 [==============================] - 0s 3ms/step - loss: 0.2030 - acc: 0.8950 - val_loss: 0.1986 - val_acc: 0.8943\n",
            "Epoch 50/100\n",
            "110/110 [==============================] - 0s 3ms/step - loss: 0.2031 - acc: 0.8943 - val_loss: 0.1985 - val_acc: 0.8950\n",
            "Epoch 51/100\n",
            "110/110 [==============================] - 0s 3ms/step - loss: 0.2030 - acc: 0.8947 - val_loss: 0.1984 - val_acc: 0.8967\n",
            "Epoch 52/100\n",
            "110/110 [==============================] - 0s 3ms/step - loss: 0.2030 - acc: 0.8940 - val_loss: 0.1983 - val_acc: 0.8987\n",
            "Epoch 53/100\n",
            "110/110 [==============================] - 0s 3ms/step - loss: 0.2031 - acc: 0.8949 - val_loss: 0.1984 - val_acc: 0.8967\n",
            "Epoch 54/100\n",
            "110/110 [==============================] - 0s 3ms/step - loss: 0.2030 - acc: 0.8946 - val_loss: 0.1987 - val_acc: 0.8950\n",
            "Epoch 55/100\n",
            "110/110 [==============================] - 0s 3ms/step - loss: 0.2032 - acc: 0.8950 - val_loss: 0.1984 - val_acc: 0.8957\n",
            "Epoch 56/100\n",
            "110/110 [==============================] - 0s 3ms/step - loss: 0.2031 - acc: 0.8953 - val_loss: 0.1985 - val_acc: 0.8950\n",
            "Epoch 57/100\n",
            "110/110 [==============================] - 0s 3ms/step - loss: 0.2030 - acc: 0.8949 - val_loss: 0.1983 - val_acc: 0.8967\n",
            "Epoch 58/100\n",
            "110/110 [==============================] - 0s 3ms/step - loss: 0.2030 - acc: 0.8946 - val_loss: 0.1984 - val_acc: 0.8967\n",
            "Epoch 59/100\n",
            "110/110 [==============================] - 0s 3ms/step - loss: 0.2031 - acc: 0.8947 - val_loss: 0.1985 - val_acc: 0.8957\n",
            "Epoch 60/100\n",
            "110/110 [==============================] - 0s 3ms/step - loss: 0.2031 - acc: 0.8944 - val_loss: 0.1985 - val_acc: 0.8950\n",
            "Epoch 61/100\n",
            "110/110 [==============================] - 0s 3ms/step - loss: 0.2030 - acc: 0.8949 - val_loss: 0.1985 - val_acc: 0.8950\n",
            "Epoch 62/100\n",
            "110/110 [==============================] - 0s 4ms/step - loss: 0.2030 - acc: 0.8944 - val_loss: 0.1983 - val_acc: 0.8967\n",
            "Epoch 63/100\n",
            "110/110 [==============================] - 0s 3ms/step - loss: 0.2030 - acc: 0.8954 - val_loss: 0.1985 - val_acc: 0.8947\n",
            "Epoch 64/100\n",
            "110/110 [==============================] - 0s 3ms/step - loss: 0.2030 - acc: 0.8949 - val_loss: 0.1983 - val_acc: 0.8967\n",
            "Epoch 65/100\n",
            "110/110 [==============================] - 0s 3ms/step - loss: 0.2030 - acc: 0.8941 - val_loss: 0.1986 - val_acc: 0.8947\n",
            "Epoch 66/100\n",
            "110/110 [==============================] - 0s 3ms/step - loss: 0.2030 - acc: 0.8950 - val_loss: 0.1986 - val_acc: 0.8947\n",
            "Epoch 67/100\n",
            "110/110 [==============================] - 0s 3ms/step - loss: 0.2030 - acc: 0.8947 - val_loss: 0.1984 - val_acc: 0.8957\n",
            "Epoch 68/100\n",
            "110/110 [==============================] - 0s 4ms/step - loss: 0.2030 - acc: 0.8950 - val_loss: 0.1986 - val_acc: 0.8947\n",
            "Epoch 69/100\n",
            "110/110 [==============================] - 0s 4ms/step - loss: 0.2030 - acc: 0.8940 - val_loss: 0.1982 - val_acc: 0.8990\n",
            "Epoch 70/100\n",
            "110/110 [==============================] - 0s 4ms/step - loss: 0.2029 - acc: 0.8949 - val_loss: 0.1982 - val_acc: 0.8987\n",
            "Epoch 71/100\n",
            "110/110 [==============================] - 0s 4ms/step - loss: 0.2030 - acc: 0.8947 - val_loss: 0.1984 - val_acc: 0.8953\n",
            "Epoch 72/100\n",
            "110/110 [==============================] - 0s 4ms/step - loss: 0.2030 - acc: 0.8949 - val_loss: 0.1984 - val_acc: 0.8953\n",
            "Epoch 73/100\n",
            "110/110 [==============================] - 0s 3ms/step - loss: 0.2030 - acc: 0.8947 - val_loss: 0.1983 - val_acc: 0.8957\n",
            "Epoch 74/100\n",
            "110/110 [==============================] - 0s 3ms/step - loss: 0.2029 - acc: 0.8946 - val_loss: 0.1984 - val_acc: 0.8957\n",
            "Epoch 75/100\n",
            "110/110 [==============================] - 0s 4ms/step - loss: 0.2032 - acc: 0.8957 - val_loss: 0.1984 - val_acc: 0.8957\n",
            "Epoch 76/100\n",
            "110/110 [==============================] - 0s 3ms/step - loss: 0.2031 - acc: 0.8949 - val_loss: 0.1985 - val_acc: 0.8950\n",
            "Epoch 77/100\n",
            "110/110 [==============================] - 0s 3ms/step - loss: 0.2030 - acc: 0.8944 - val_loss: 0.1984 - val_acc: 0.8950\n",
            "Epoch 78/100\n",
            "110/110 [==============================] - 0s 4ms/step - loss: 0.2029 - acc: 0.8940 - val_loss: 0.1982 - val_acc: 0.8993\n",
            "Epoch 79/100\n",
            "110/110 [==============================] - 0s 3ms/step - loss: 0.2029 - acc: 0.8956 - val_loss: 0.1986 - val_acc: 0.8947\n",
            "Epoch 80/100\n",
            "110/110 [==============================] - 0s 3ms/step - loss: 0.2032 - acc: 0.8944 - val_loss: 0.1987 - val_acc: 0.8943\n",
            "Epoch 81/100\n",
            "110/110 [==============================] - 0s 3ms/step - loss: 0.2031 - acc: 0.8951 - val_loss: 0.1987 - val_acc: 0.8943\n",
            "Epoch 82/100\n",
            "110/110 [==============================] - 0s 3ms/step - loss: 0.2030 - acc: 0.8947 - val_loss: 0.1983 - val_acc: 0.8963\n",
            "Epoch 83/100\n",
            "110/110 [==============================] - 0s 3ms/step - loss: 0.2029 - acc: 0.8959 - val_loss: 0.1984 - val_acc: 0.8950\n",
            "Epoch 84/100\n",
            "110/110 [==============================] - 0s 3ms/step - loss: 0.2028 - acc: 0.8939 - val_loss: 0.1982 - val_acc: 0.8987\n",
            "Epoch 85/100\n",
            "110/110 [==============================] - 0s 3ms/step - loss: 0.2030 - acc: 0.8953 - val_loss: 0.1982 - val_acc: 0.8990\n",
            "Epoch 86/100\n",
            "110/110 [==============================] - 0s 3ms/step - loss: 0.2030 - acc: 0.8960 - val_loss: 0.1983 - val_acc: 0.8967\n",
            "Epoch 87/100\n",
            "110/110 [==============================] - 0s 3ms/step - loss: 0.2030 - acc: 0.8941 - val_loss: 0.1982 - val_acc: 0.8977\n",
            "Epoch 88/100\n",
            "110/110 [==============================] - 0s 3ms/step - loss: 0.2030 - acc: 0.8961 - val_loss: 0.1984 - val_acc: 0.8957\n",
            "Epoch 89/100\n",
            "110/110 [==============================] - 0s 3ms/step - loss: 0.2030 - acc: 0.8943 - val_loss: 0.1986 - val_acc: 0.8943\n",
            "Epoch 90/100\n",
            "110/110 [==============================] - 0s 3ms/step - loss: 0.2030 - acc: 0.8949 - val_loss: 0.1982 - val_acc: 0.8980\n",
            "Epoch 91/100\n",
            "110/110 [==============================] - 0s 3ms/step - loss: 0.2029 - acc: 0.8953 - val_loss: 0.1982 - val_acc: 0.8990\n",
            "Epoch 92/100\n",
            "110/110 [==============================] - 0s 3ms/step - loss: 0.2029 - acc: 0.8961 - val_loss: 0.1985 - val_acc: 0.8943\n",
            "Epoch 93/100\n",
            "110/110 [==============================] - 0s 3ms/step - loss: 0.2030 - acc: 0.8950 - val_loss: 0.1982 - val_acc: 0.8963\n",
            "Epoch 94/100\n",
            "110/110 [==============================] - 0s 3ms/step - loss: 0.2030 - acc: 0.8954 - val_loss: 0.1983 - val_acc: 0.8960\n",
            "Epoch 95/100\n",
            "110/110 [==============================] - 0s 3ms/step - loss: 0.2028 - acc: 0.8950 - val_loss: 0.1984 - val_acc: 0.8950\n",
            "Epoch 96/100\n",
            "110/110 [==============================] - 0s 3ms/step - loss: 0.2029 - acc: 0.8947 - val_loss: 0.1982 - val_acc: 0.8983\n",
            "Epoch 97/100\n",
            "110/110 [==============================] - 0s 4ms/step - loss: 0.2030 - acc: 0.8947 - val_loss: 0.1983 - val_acc: 0.8963\n",
            "Epoch 98/100\n",
            "110/110 [==============================] - 0s 3ms/step - loss: 0.2031 - acc: 0.8953 - val_loss: 0.1983 - val_acc: 0.8960\n",
            "Epoch 99/100\n",
            "110/110 [==============================] - 0s 3ms/step - loss: 0.2029 - acc: 0.8953 - val_loss: 0.1984 - val_acc: 0.8947\n",
            "Epoch 100/100\n",
            "110/110 [==============================] - 0s 3ms/step - loss: 0.2029 - acc: 0.8951 - val_loss: 0.1984 - val_acc: 0.8947\n"
          ],
          "name": "stdout"
        }
      ]
    },
    {
      "cell_type": "code",
      "metadata": {
        "id": "N2vaLTd25u14"
      },
      "source": [
        "xx, yy = np.meshgrid(np.linspace(-2,2,num=200),np.linspace(-2,2,num=200))"
      ],
      "execution_count": 31,
      "outputs": []
    },
    {
      "cell_type": "code",
      "metadata": {
        "id": "T5pPXa7V5u16"
      },
      "source": [
        "zz = model_class1.predict(np.c_[xx.ravel(),yy.ravel()]).reshape(xx.shape)"
      ],
      "execution_count": 32,
      "outputs": []
    },
    {
      "cell_type": "code",
      "metadata": {
        "id": "kaiQeXdl5u1-",
        "outputId": "282c6a8c-8a0e-43b1-a5f6-1d3ed09adbfd",
        "colab": {
          "base_uri": "https://localhost:8080/",
          "height": 286
        }
      },
      "source": [
        "plt.scatter(data_moons[:,0],data_moons[:,1], c=class_moons)\n",
        "plt.contourf(xx,yy,zz, alpha=0.1)"
      ],
      "execution_count": 33,
      "outputs": [
        {
          "output_type": "execute_result",
          "data": {
            "text/plain": [
              "<matplotlib.contour.QuadContourSet at 0x7f408e1d4898>"
            ]
          },
          "metadata": {
            "tags": []
          },
          "execution_count": 33
        },
        {
          "output_type": "display_data",
          "data": {
            "image/png": "[encoded data removed]",
            "text/plain": [
              "<Figure size 432x288 with 1 Axes>"
            ]
          },
          "metadata": {
            "tags": [],
            "needs_background": "light"
          }
        }
      ]
    },
    {
      "cell_type": "code",
      "metadata": {
        "id": "xysUUtlx5u2B"
      },
      "source": [
        ""
      ],
      "execution_count": 33,
      "outputs": []
    }
  ]
}